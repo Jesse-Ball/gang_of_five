{
 "cells": [
  {
   "attachments": {},
   "cell_type": "markdown",
   "metadata": {},
   "source": [
    "# Gang of Five: Software Design Patterns"
   ]
  },
  {
   "attachments": {},
   "cell_type": "markdown",
   "metadata": {},
   "source": [
    "### What is a Software Design Pattern???"
   ]
  },
  {
   "attachments": {},
   "cell_type": "markdown",
   "metadata": {},
   "source": [
    "From Wiki: \"In software engineering, a software design pattern is a general, reusable solution to a commonly occurring problem within a given context in software design.\""
   ]
  },
  {
   "attachments": {},
   "cell_type": "markdown",
   "metadata": {},
   "source": [
    "![image](blueprint.png) ![image](blueprint.png) ![image](blueprint.png)"
   ]
  },
  {
   "attachments": {},
   "cell_type": "markdown",
   "metadata": {},
   "source": [
    "Software design patterns essentially give us blueprints of boiler plate code to adapt for our own use. These blueprints are popular because the solve some common problem within software design. The infamous gang of four is derived from the book below."
   ]
  },
  {
   "attachments": {},
   "cell_type": "markdown",
   "metadata": {},
   "source": [
    "![image](book.jpeg)"
   ]
  },
  {
   "attachments": {},
   "cell_type": "markdown",
   "metadata": {},
   "source": [
    "This book released in 1994 still holds relevant in todays fast paced software world. Today we will look at a five of the most infamous software design problems and some example code for them. \n",
    "<br /><br />\n",
    "There are 3 main categories of design patters: <br /> \n",
    "&nbsp;&nbsp;&nbsp;&nbsp;    1. Creational: design patterns that deal with the creation of an object. How should objects be created?<br />\n",
    "&nbsp;&nbsp;&nbsp;&nbsp;    2. Structural: design patterns in this category deal deal with the class structure such as inheritence or composition. How should objects be built and maintained?<br />\n",
    "&nbsp;&nbsp;&nbsp;&nbsp;    3. Behavioral: these design patterns provide solution for the better interaction between object, loose coupling, and flexibility to extend easily in the future. How should objects interact and evolve?<br />"
   ]
  },
  {
   "attachments": {},
   "cell_type": "markdown",
   "metadata": {},
   "source": [
    "### Singleton"
   ]
  },
  {
   "attachments": {},
   "cell_type": "markdown",
   "metadata": {},
   "source": [
    "![image](singleton.jpeg)"
   ]
  },
  {
   "attachments": {},
   "cell_type": "markdown",
   "metadata": {},
   "source": [
    "A Singleton is just that, a single class object being used throughout the enture application. There can only ever be one. <br /> <br />\n",
    "\n",
    "Perks:<br />\n",
    "&nbsp;&nbsp;&nbsp;&nbsp; 1. Only one initialization <br />\n",
    "&nbsp;&nbsp;&nbsp;&nbsp; 2. The entire app has access to the object instance, so everyone can use it <br />\n",
    "&nbsp;&nbsp;&nbsp;&nbsp; 3. There can only be one, so we don't need to worry about multiple instances floating around <br />\n",
    "<br /> <br />\n",
    "\n",
    "Probably not great for: <br />\n",
    "&nbsp;&nbsp;&nbsp;&nbsp; 1. Mutlithreading. Having multiple threads make calls to the same instance could get creepy <br />\n",
    "&nbsp;&nbsp;&nbsp;&nbsp; 2. Single responsibility. If the same instance is solving multiple problems at once, what operations finish first and other questions. <br />\n",
    "&nbsp;&nbsp;&nbsp;&nbsp; 3. Unit testing. With a global state and single instance, setting up a testing environment could get weird. <br />\n",
    "<br /><br />\n",
    "\n",
    "Places to use: <br />\n",
    "&nbsp;&nbsp;&nbsp;&nbsp; 1. Controlling global state variables. Is your app in day mode or night mode? <br />\n",
    "&nbsp;&nbsp;&nbsp;&nbsp; 2. Logging, caching, and all of your configs <br />\n",
    "<br /><br />"
   ]
  },
  {
   "cell_type": "code",
   "execution_count": 4,
   "metadata": {},
   "outputs": [
    {
     "name": "stdout",
     "output_type": "stream",
     "text": [
      "blue\n",
      "blue\n",
      "yellow\n",
      "yellow\n",
      "yellow\n"
     ]
    }
   ],
   "source": [
    "class Borg:\n",
    " \n",
    "    # state shared by each instance\n",
    "    __shared_state = dict()\n",
    " \n",
    "    # constructor method\n",
    "    def __init__(self):\n",
    " \n",
    "        self.__dict__ = self.__shared_state\n",
    "        self.state = 'red'\n",
    " \n",
    "    def __str__(self):\n",
    " \n",
    "        return self.state\n",
    " \n",
    " \n",
    "\n",
    "person1 = Borg()    # object of class Borg\n",
    "person2 = Borg()    # object of class Borg\n",
    "person3 = Borg()    # object of class Borg\n",
    "\n",
    "person1.state = 'green'  # person1 changed the state\n",
    "person2.state = 'blue'     # person2 changed the state\n",
    "\n",
    "print(person1)    # output --> blue\n",
    "print(person2)    # output --> blue\n",
    "\n",
    "person3.state = 'yellow'  # person3 changed the\n",
    "# the shared state\n",
    "\n",
    "print(person1)    # output --> yellow\n",
    "print(person2)    # output --> yellow\n",
    "print(person3)    # output --> yellow"
   ]
  },
  {
   "cell_type": "markdown",
   "metadata": {},
   "source": [
    "### Facade"
   ]
  },
  {
   "cell_type": "markdown",
   "metadata": {},
   "source": [
    "![image](facade.jpeg)"
   ]
  },
  {
   "attachments": {},
   "cell_type": "markdown",
   "metadata": {},
   "source": [
    "A Facade kindly looks at the user and says \"I'll handle that\" and abstracts all of the users woes (and sometimes choices away). <br /> <br />\n",
    "\n",
    "Perks:<br />\n",
    "&nbsp;&nbsp;&nbsp;&nbsp; 1. Isolation of code from complex subsystem. <br />\n",
    "&nbsp;&nbsp;&nbsp;&nbsp; 2. Makes testing reeeeaaal easy <br />\n",
    "&nbsp;&nbsp;&nbsp;&nbsp; 3. Allows for loose coupling (aka changing things doesn't auto break others) <br />\n",
    "<br /> <br />\n",
    "\n",
    "Probably not great for: <br />\n",
    "&nbsp;&nbsp;&nbsp;&nbsp; 1. Changes in methods. If you change an abstraced function, that could change how the facade layer acts <br />\n",
    "&nbsp;&nbsp;&nbsp;&nbsp; 2. Not always a time/cost viable option for system reliability <br />\n",
    "&nbsp;&nbsp;&nbsp;&nbsp; 3. You could make a bad/unuseful facade layer that doesn't cater well to user needs <br />\n",
    "<br /><br />\n",
    "\n",
    "Places to use: <br />\n",
    "&nbsp;&nbsp;&nbsp;&nbsp; 1. Providing a simple interface (even for an unsimple backend) <br />\n",
    "&nbsp;&nbsp;&nbsp;&nbsp; 2. Adding different layers or steps to the app <br />\n",
    "<br /><br />"
   ]
  },
  {
   "cell_type": "code",
   "execution_count": 7,
   "metadata": {},
   "outputs": [
    {
     "name": "stdout",
     "output_type": "stream",
     "text": [
      "Washing...\n",
      "Rinsing...\n",
      "Spinning...\n"
     ]
    }
   ],
   "source": [
    "class Washing:\n",
    "    '''Subsystem # 1'''\n",
    "  \n",
    "    def wash(self):\n",
    "        print(\"Washing...\")\n",
    "  \n",
    "  \n",
    "class Rinsing:\n",
    "    '''Subsystem # 2'''\n",
    "  \n",
    "    def rinse(self):\n",
    "        print(\"Rinsing...\")\n",
    "  \n",
    "  \n",
    "class Spinning:\n",
    "    '''Subsystem # 3'''\n",
    "  \n",
    "    def spin(self):\n",
    "        print(\"Spinning...\")\n",
    "  \n",
    "  \n",
    "class WashingMachine:\n",
    "    '''Facade'''\n",
    "  \n",
    "    def __init__(self):\n",
    "        self.washing = Washing()\n",
    "        self.rinsing = Rinsing()\n",
    "        self.spinning = Spinning()\n",
    "  \n",
    "    def startWashing(self):\n",
    "        self.washing.wash()\n",
    "        self.rinsing.rinse()\n",
    "        self.spinning.spin()\n",
    "\n",
    "  \n",
    "washingMachine = WashingMachine()\n",
    "washingMachine.startWashing()"
   ]
  },
  {
   "cell_type": "markdown",
   "metadata": {},
   "source": [
    "### Adapter/Bridge"
   ]
  },
  {
   "attachments": {},
   "cell_type": "markdown",
   "metadata": {},
   "source": [
    "![image](adapter.jpeg)"
   ]
  },
  {
   "attachments": {},
   "cell_type": "markdown",
   "metadata": {},
   "source": [
    "Think about your computer. Do you have a usb that plugs into an adapter and then you can charge using a usb-c? Now what if you could do that with code....\n",
    "\n",
    "<br /> <br />\n",
    "\n",
    "Perks:<br />\n",
    "&nbsp;&nbsp;&nbsp;&nbsp; 1.Single responsibility. Can separate concrete code from client code <br />\n",
    "&nbsp;&nbsp;&nbsp;&nbsp; 2. Makes for super flexible code <br />\n",
    "&nbsp;&nbsp;&nbsp;&nbsp; 3. Less complicated client class, can use polymorphism to swap between different implementations of adapters.<br />\n",
    "&nbsp;&nbsp;&nbsp;&nbsp; 4. Can use adapters to not violate the open/close principal (you can extend an adapter, but not modify underlying class code).<br />\n",
    "<br /> <br />\n",
    "\n",
    "Probably not great for: <br />\n",
    "&nbsp;&nbsp;&nbsp;&nbsp; 1. Code complexity. Whew adding all that adapter code confused me <br />\n",
    "&nbsp;&nbsp;&nbsp;&nbsp; 2. Lots of adaptations to be useful <br />\n",
    "<br /><br />\n",
    "\n",
    "Places to use: <br />\n",
    "&nbsp;&nbsp;&nbsp;&nbsp; 1. Make two incompatible interfaces compatible <br />\n",
    "&nbsp;&nbsp;&nbsp;&nbsp; 2. Can reuse lots of code using inheritance <br />\n",
    "<br /><br />"
   ]
  },
  {
   "cell_type": "code",
   "execution_count": 10,
   "metadata": {},
   "outputs": [
    {
     "name": "stdout",
     "output_type": "stream",
     "text": [
      "A MotorCycle is a TwoWheeler vehicle\n",
      "A Truck is a EightWheeler vehicle\n",
      "A Car is a FourWheeler vehicle\n"
     ]
    }
   ],
   "source": [
    "# Dog - Cycle\n",
    "# human - Truck\n",
    "# car - Car\n",
    "\n",
    "class MotorCycle:\n",
    "\n",
    "\t\"\"\"Class for MotorCycle\"\"\"\n",
    "\n",
    "\tdef __init__(self):\n",
    "\t\tself.name = \"MotorCycle\"\n",
    "\n",
    "\tdef TwoWheeler(self):\n",
    "\t\treturn \"TwoWheeler\"\n",
    "\n",
    "\n",
    "class Truck:\n",
    "\n",
    "\t\"\"\"Class for Truck\"\"\"\n",
    "\n",
    "\tdef __init__(self):\n",
    "\t\tself.name = \"Truck\"\n",
    "\n",
    "\tdef EightWheeler(self):\n",
    "\t\treturn \"EightWheeler\"\n",
    "\n",
    "\n",
    "class Car:\n",
    "\n",
    "\t\"\"\"Class for Car\"\"\"\n",
    "\n",
    "\tdef __init__(self):\n",
    "\t\tself.name = \"Car\"\n",
    "\n",
    "\tdef FourWheeler(self):\n",
    "\t\treturn \"FourWheeler\"\n",
    "\n",
    "class Adapter:\n",
    "\t\"\"\"\n",
    "\tAdapts an object by replacing methods.\n",
    "\tUsage:\n",
    "\tmotorCycle = MotorCycle()\n",
    "\tmotorCycle = Adapter(motorCycle, wheels = motorCycle.TwoWheeler)\n",
    "\t\"\"\"\n",
    "\n",
    "\tdef __init__(self, obj, **adapted_methods):\n",
    "\t\t\"\"\"We set the adapted methods in the object's dict\"\"\"\n",
    "\t\tself.obj = obj\n",
    "\t\tself.__dict__.update(adapted_methods)\n",
    "\n",
    "\tdef __getattr__(self, attr):\n",
    "\t\t\"\"\"All non-adapted calls are passed to the object\"\"\"\n",
    "\t\treturn getattr(self.obj, attr)\n",
    "\n",
    "\tdef original_dict(self):\n",
    "\t\t\"\"\"Print original object dict\"\"\"\n",
    "\t\treturn self.obj.__dict__\n",
    "\n",
    "\n",
    "\n",
    "\n",
    "\"\"\"list to store objects\"\"\"\n",
    "objects = []\n",
    "\n",
    "motorCycle = MotorCycle()\n",
    "objects.append(Adapter(motorCycle, wheels = motorCycle.TwoWheeler))\n",
    "\n",
    "truck = Truck()\n",
    "objects.append(Adapter(truck, wheels = truck.EightWheeler))\n",
    "\n",
    "car = Car()\n",
    "objects.append(Adapter(car, wheels = car.FourWheeler))\n",
    "\n",
    "for obj in objects:\n",
    "\tprint(\"A {0} is a {1} vehicle\".format(obj.name, obj.wheels()))\n"
   ]
  },
  {
   "cell_type": "markdown",
   "metadata": {},
   "source": [
    "### Strategy"
   ]
  },
  {
   "attachments": {},
   "cell_type": "markdown",
   "metadata": {},
   "source": [
    "![image](strategy.jpeg)"
   ]
  },
  {
   "attachments": {},
   "cell_type": "markdown",
   "metadata": {},
   "source": [
    "What if you were a master of strategy? You'd probably say \"lets make a class where it also takes whatever function to do whatever future operations I might want to do\"...\n",
    "\n",
    "<br /> <br />\n",
    "\n",
    "Perks:<br />\n",
    "&nbsp;&nbsp;&nbsp;&nbsp; 1.Little code change with updates<br />\n",
    "&nbsp;&nbsp;&nbsp;&nbsp; 2. Makes for readable, simple code <br />\n",
    "&nbsp;&nbsp;&nbsp;&nbsp; 3. Code is well encapsulated (data is kept in the strategy class, algos can be changed without messing with the class).<br />\n",
    "&nbsp;&nbsp;&nbsp;&nbsp; 4. Can switch between strategies at run time.<br />\n",
    "<br /> <br />\n",
    "\n",
    "Probably not great for: <br />\n",
    "&nbsp;&nbsp;&nbsp;&nbsp; 1. Creating lots of object instances <br />\n",
    "&nbsp;&nbsp;&nbsp;&nbsp; 2. Making sure clients know about strategies and their uses <br />\n",
    "&nbsp;&nbsp;&nbsp;&nbsp; 3. Could be uneeded complexity if we only have a handful of strategies <br />\n",
    "<br /><br />\n",
    "\n",
    "Places to use: <br />\n",
    "&nbsp;&nbsp;&nbsp;&nbsp; 1. Creating lots of similar classes that almost do the same thing <br />\n",
    "&nbsp;&nbsp;&nbsp;&nbsp; 2. Distinctly isolating code <br />\n",
    "<br /><br />"
   ]
  },
  {
   "cell_type": "code",
   "execution_count": 11,
   "metadata": {},
   "outputs": [
    {
     "name": "stdout",
     "output_type": "stream",
     "text": [
      "Price: 20000, price after discount: 20000\n",
      "Price: 20000, price after discount: 16000.0\n",
      "Price: 20000, price after discount: 14980.0\n"
     ]
    }
   ],
   "source": [
    "\"\"\"A separate class for Item\"\"\"\n",
    "class Item:\n",
    "\n",
    "\t\"\"\"Constructor function with price and discount\"\"\"\n",
    "\n",
    "\tdef __init__(self, price, discount_strategy = None):\n",
    "\t\t\n",
    "\t\t\"\"\"take price and discount strategy\"\"\"\n",
    "\t\t\n",
    "\t\tself.price = price\n",
    "\t\tself.discount_strategy = discount_strategy\n",
    "\t\t\n",
    "\t\"\"\"A separate function for price after discount\"\"\"\n",
    "\n",
    "\tdef price_after_discount(self):\n",
    "\t\t\n",
    "\t\tif self.discount_strategy:\n",
    "\t\t\tdiscount = self.discount_strategy(self)\n",
    "\t\telse:\n",
    "\t\t\tdiscount = 0\n",
    "\t\t\t\n",
    "\t\treturn self.price - discount\n",
    "\n",
    "\tdef __repr__(self):\n",
    "\t\t\n",
    "\t\tstatement = \"Price: {}, price after discount: {}\"\n",
    "\t\treturn statement.format(self.price, self.price_after_discount())\n",
    "\n",
    "\"\"\"function dedicated to On Sale Discount\"\"\"\n",
    "def on_sale_discount(order):\n",
    "\t\n",
    "\treturn order.price * 0.25 + 20\n",
    "\n",
    "\"\"\"function dedicated to 20 % discount\"\"\"\n",
    "def twenty_percent_discount(order):\n",
    "\t\n",
    "\treturn order.price * 0.20\n",
    "\n",
    "\n",
    "\n",
    "print(Item(20000))\n",
    "\n",
    "\"\"\"with discount strategy as 20 % discount\"\"\"\n",
    "print(Item(20000, discount_strategy = twenty_percent_discount))\n",
    "\n",
    "\"\"\"with discount strategy as On Sale Discount\"\"\"\n",
    "print(Item(20000, discount_strategy = on_sale_discount))\n"
   ]
  },
  {
   "cell_type": "markdown",
   "metadata": {},
   "source": [
    "### Observer"
   ]
  },
  {
   "attachments": {},
   "cell_type": "markdown",
   "metadata": {},
   "source": [
    "![image](observer.jpeg)"
   ]
  },
  {
   "attachments": {},
   "cell_type": "markdown",
   "metadata": {},
   "source": [
    "You're going to dye your hair and immediately let all of your friends know about it. Observer deals with publishers and subscribers as a way of passing data around. \n",
    "\n",
    "<br /> <br />\n",
    "\n",
    "Perks:<br />\n",
    "&nbsp;&nbsp;&nbsp;&nbsp; 1.Little code change with updates<br />\n",
    "&nbsp;&nbsp;&nbsp;&nbsp; 2. Easy to establish the runtime relationships <br />\n",
    "&nbsp;&nbsp;&nbsp;&nbsp; 3. Describes the current coupling situation (who is subscribed to who and who publishes what)<br />\n",
    "<br /> <br />\n",
    "\n",
    "Probably not great for: <br />\n",
    "&nbsp;&nbsp;&nbsp;&nbsp; 1. Memory leakage caused by lapsed listener problem (causing objects to build up when objects do not unsubscribe properly. It's like wasting money with hulu, netflix and HBO max when you no longer watch those shows) results in bad performance<br />\n",
    "&nbsp;&nbsp;&nbsp;&nbsp; 2. All subscribers get the notification in a random order <br />\n",
    "&nbsp;&nbsp;&nbsp;&nbsp; 3. If you don't watch out you could create some really complex code. Thats a lot of subscriber relatonships to handle if you are passing a ton of data around<br />\n",
    "<br /><br />\n",
    "\n",
    "Places to use: <br />\n",
    "&nbsp;&nbsp;&nbsp;&nbsp; 1. Dependency of objects on other objects state <br />\n",
    "&nbsp;&nbsp;&nbsp;&nbsp; 2. Actually getting notifications like text or ping <br />\n",
    "&nbsp;&nbsp;&nbsp;&nbsp; 3. Reflections of state change in multiple objexts.  <br />\n",
    "<br /><br />"
   ]
  },
  {
   "cell_type": "code",
   "execution_count": 13,
   "metadata": {},
   "outputs": [
    {
     "name": "stdout",
     "output_type": "stream",
     "text": [
      "DecimalViewer: Subject Data 1 has data  10\n",
      "HexViewer: Subject Data 1 has data 0xa\n",
      "OctalViewer: SubjectData 1has data 0o12\n",
      "DecimalViewer: Subject Data 2 has data  15\n",
      "HexViewer: Subject Data 2 has data 0xf\n",
      "OctalViewer: SubjectData 2has data 0o17\n"
     ]
    }
   ],
   "source": [
    "class Subject:\n",
    "\n",
    "\t\"\"\"Represents what is being observed\"\"\"\n",
    "\n",
    "\tdef __init__(self):\n",
    "\n",
    "\t\t\"\"\"create an empty observer list\"\"\"\n",
    "\n",
    "\t\tself._observers = []\n",
    "\n",
    "\tdef notify(self, modifier = None):\n",
    "\n",
    "\t\t\"\"\"Alert the observers\"\"\"\n",
    "\n",
    "\t\tfor observer in self._observers:\n",
    "\t\t\tif modifier != observer:\n",
    "\t\t\t\tobserver.update(self)\n",
    "\n",
    "\tdef attach(self, observer):\n",
    "\n",
    "\t\t\"\"\"If the observer is not in the list,\n",
    "\t\tappend it into the list\"\"\"\n",
    "\n",
    "\t\tif observer not in self._observers:\n",
    "\t\t\tself._observers.append(observer)\n",
    "\n",
    "\tdef detach(self, observer):\n",
    "\n",
    "\t\t\"\"\"Remove the observer from the observer list\"\"\"\n",
    "\n",
    "\t\ttry:\n",
    "\t\t\tself._observers.remove(observer)\n",
    "\t\texcept ValueError:\n",
    "\t\t\tpass\n",
    "\n",
    "\n",
    "\n",
    "class Data(Subject):\n",
    "\n",
    "\t\"\"\"monitor the object\"\"\"\n",
    "\n",
    "\tdef __init__(self, name =''):\n",
    "\t\tSubject.__init__(self)\n",
    "\t\tself.name = name\n",
    "\t\tself._data = 0\n",
    "\n",
    "\t@property\n",
    "\tdef data(self):\n",
    "\t\treturn self._data\n",
    "\n",
    "\t@data.setter\n",
    "\tdef data(self, value):\n",
    "\t\tself._data = value\n",
    "\t\tself.notify()\n",
    "\n",
    "\n",
    "class HexViewer:\n",
    "\n",
    "\t\"\"\"updates the Hexviewer\"\"\"\n",
    "\n",
    "\tdef update(self, subject):\n",
    "\t\tprint('HexViewer: Subject {} has data 0x{:x}'.format(subject.name, subject.data))\n",
    "\n",
    "class OctalViewer:\n",
    "\n",
    "\t\"\"\"updates the Octal viewer\"\"\"\n",
    "\n",
    "\tdef update(self, subject):\n",
    "\t\tprint('OctalViewer: Subject' + str(subject.name) + 'has data '+str(oct(subject.data)))\n",
    "\n",
    "\n",
    "class DecimalViewer:\n",
    "\n",
    "\t\"\"\"updates the Decimal viewer\"\"\"\n",
    "\n",
    "\tdef update(self, subject):\n",
    "\t\tprint('DecimalViewer: Subject % s has data % d' % (subject.name, subject.data))\n",
    "\n",
    "\n",
    "\"\"\"provide the data\"\"\"\n",
    "\n",
    "obj1 = Data('Data 1')\n",
    "obj2 = Data('Data 2')\n",
    "\n",
    "view1 = DecimalViewer()\n",
    "view2 = HexViewer()\n",
    "view3 = OctalViewer()\n",
    "\n",
    "obj1.attach(view1)\n",
    "obj1.attach(view2)\n",
    "obj1.attach(view3)\n",
    "\n",
    "obj2.attach(view1)\n",
    "obj2.attach(view2)\n",
    "obj2.attach(view3)\n",
    "\n",
    "obj1.data = 10\n",
    "obj2.data = 15\n"
   ]
  },
  {
   "cell_type": "code",
   "execution_count": null,
   "metadata": {},
   "outputs": [],
   "source": []
  }
 ],
 "metadata": {
  "kernelspec": {
   "display_name": "base",
   "language": "python",
   "name": "python3"
  },
  "language_info": {
   "codemirror_mode": {
    "name": "ipython",
    "version": 3
   },
   "file_extension": ".py",
   "mimetype": "text/x-python",
   "name": "python",
   "nbconvert_exporter": "python",
   "pygments_lexer": "ipython3",
   "version": "3.8.3"
  },
  "orig_nbformat": 4,
  "vscode": {
   "interpreter": {
    "hash": "40d3a090f54c6569ab1632332b64b2c03c39dcf918b08424e98f38b5ae0af88f"
   }
  }
 },
 "nbformat": 4,
 "nbformat_minor": 2
}
